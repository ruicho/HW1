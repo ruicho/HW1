{
 "cells": [
  {
   "cell_type": "code",
   "execution_count": 1,
   "metadata": {},
   "outputs": [],
   "source": [
    "from torchsummary import summary\n",
    "\n",
    "import matplotlib.pyplot as plt \n",
    "import matplotlib.image as mpimg \n",
    "import numpy as np\n",
    "\n",
    "from scipy import misc\n",
    "\n",
    "import torch \n",
    "import torch.nn as nn\n",
    "import torchvision\n",
    "import torchvision.transforms as transforms\n",
    "\n",
    "device = torch.device('cuda' if torch.cuda.is_available() else 'cpu')\n",
    "\n",
    "num_epochs = 5\n",
    "num_classes = 10\n",
    "batch_size = 32\n",
    "learning_rate = 0.001"
   ]
  },
  {
   "cell_type": "code",
   "execution_count": 2,
   "metadata": {},
   "outputs": [
    {
     "name": "stdout",
     "output_type": "stream",
     "text": [
      "Files already downloaded and verified\n",
      "Files already downloaded and verified\n"
     ]
    }
   ],
   "source": [
    "\n",
    "transform = transforms.Compose(\n",
    "    [transforms.ToTensor(),\n",
    "     transforms.Normalize((0.5, 0.5, 0.5), (0.5, 0.5, 0.5))])\n",
    "\n",
    "trainset = torchvision.datasets.CIFAR10(root='./data', train=True,\n",
    "                                        download=True, transform=transform)\n",
    "trainloader = torch.utils.data.DataLoader(trainset, batch_size=batch_size,\n",
    "                                          shuffle=True, num_workers=2)\n",
    "\n",
    "testset = torchvision.datasets.CIFAR10(root='./data', train=False,\n",
    "                                       download=True, transform=transform)\n",
    "testloader = torch.utils.data.DataLoader(testset, batch_size=batch_size,\n",
    "                                         shuffle=False, num_workers=2)\n",
    "\n",
    "classes = ('plane', 'car', 'bird', 'cat',\n",
    "           'deer', 'dog', 'frog', 'horse', 'ship', 'truck')"
   ]
  },
  {
   "cell_type": "code",
   "execution_count": 3,
   "metadata": {},
   "outputs": [],
   "source": [
    "class ConvNet(nn.Module):\n",
    "    def __init__(self, num_classes=10):\n",
    "        super(ConvNet, self).__init__()\n",
    "        self.conv1 = nn.Sequential(\n",
    "            nn.Conv2d(3, 16, kernel_size=5, stride=1, padding=2),\n",
    "            nn.BatchNorm2d(16),\n",
    "            nn.ReLU(),\n",
    "            nn.MaxPool2d(kernel_size=2, stride=2)\n",
    "           )\n",
    "        \n",
    "        self.conv2 = nn.Sequential(\n",
    "            nn.Conv2d(16, 32, kernel_size=5, stride=1, padding=2),\n",
    "            nn.BatchNorm2d(32),\n",
    "            nn.ReLU(),\n",
    "            nn.MaxPool2d(kernel_size=2, stride=2)\n",
    "            )\n",
    "        \n",
    "        self.fc = nn.Linear(2048, num_classes)\n",
    "        \n",
    "    # 定义前向传播顺序\n",
    "    def forward(self, x):\n",
    "        out = self.conv1(x)\n",
    "        out = self.conv2(out)\n",
    "        out = out.reshape(out.size(0), -1)\n",
    "        out = self.fc(out)\n",
    "        return out\n"
   ]
  },
  {
   "cell_type": "code",
   "execution_count": 4,
   "metadata": {},
   "outputs": [
    {
     "name": "stdout",
     "output_type": "stream",
     "text": [
      "----------------------------------------------------------------\n",
      "        Layer (type)               Output Shape         Param #\n",
      "================================================================\n",
      "            Conv2d-1           [-1, 16, 32, 32]           1,216\n",
      "       BatchNorm2d-2           [-1, 16, 32, 32]              32\n",
      "              ReLU-3           [-1, 16, 32, 32]               0\n",
      "         MaxPool2d-4           [-1, 16, 16, 16]               0\n",
      "            Conv2d-5           [-1, 32, 16, 16]          12,832\n",
      "       BatchNorm2d-6           [-1, 32, 16, 16]              64\n",
      "              ReLU-7           [-1, 32, 16, 16]               0\n",
      "         MaxPool2d-8             [-1, 32, 8, 8]               0\n",
      "            Linear-9                   [-1, 10]          20,490\n",
      "================================================================\n",
      "Total params: 34,634\n",
      "Trainable params: 34,634\n",
      "Non-trainable params: 0\n",
      "----------------------------------------------------------------\n",
      "Input size (MB): 0.01\n",
      "Forward/backward pass size (MB): 0.61\n",
      "Params size (MB): 0.13\n",
      "Estimated Total Size (MB): 0.75\n",
      "----------------------------------------------------------------\n"
     ]
    }
   ],
   "source": [
    "model = ConvNet(num_classes).to(device)\n",
    "\n",
    "summary(model,(3,32,32))"
   ]
  },
  {
   "cell_type": "code",
   "execution_count": 5,
   "metadata": {},
   "outputs": [],
   "source": [
    "criterion = nn.CrossEntropyLoss()\n",
    "optimizer = torch.optim.Adam(model.parameters(), lr=learning_rate)"
   ]
  },
  {
   "cell_type": "code",
   "execution_count": null,
   "metadata": {},
   "outputs": [],
   "source": [
    "total_step = len(trainloader)\n",
    "loss1_list=[]\n",
    "acc1_list=[]\n",
    "epoch_list=[]\n",
    "for epoch in range(20):\n",
    "    running_loss = 0.0\n",
    "    running_corrects = 0\n",
    "    for i, (images, labels) in enumerate(trainloader):\n",
    "        # 注意模型在GPU中，数据也要搬到GPU中\n",
    "        images = images.to(device)\n",
    "        labels = labels.to(device)\n",
    "        \n",
    "        # 前向传播\n",
    "        outputs = model(images)\n",
    "        _,preds = torch.max(outputs,1)\n",
    "        loss = criterion(outputs, labels)\n",
    "        \n",
    "        # 反向传播和优化\n",
    "        optimizer.zero_grad()\n",
    "        loss.backward()\n",
    "        optimizer.step()\n",
    "        \n",
    "        running_loss += loss.item() * images.size(0)\n",
    "        running_corrects += torch.sum(preds == labels.data)\n",
    "    print(model.parameters())\n",
    "    print(epoch+1)\n",
    "    print(running_loss/len(trainset))\n",
    "    print(running_corrects.double().item()/len(trainset))\n",
    "    epoch_list.append(epoch+1)\n",
    "    loss1_list.append(running_loss/len(trainset))\n",
    "    acc1_list.append(running_corrects.double().item()/len(trainset))\n",
    "    \n",
    "\n"
   ]
  },
  {
   "cell_type": "code",
   "execution_count": 7,
   "metadata": {},
   "outputs": [],
   "source": [
    "class ConvNet_Deep(nn.Module):\n",
    "    def __init__(self, num_classes=10):\n",
    "        super(ConvNet_Deep, self).__init__()\n",
    "        self.conv1 = nn.Sequential(\n",
    "            # 卷积层计算\n",
    "            nn.Conv2d(3, 16, kernel_size=5, stride=1, padding=2),\n",
    "            #  批归一化\n",
    "            nn.BatchNorm2d(16),\n",
    "\n",
    "            nn.ReLU(),\n",
    "            )\n",
    "        \n",
    "        self.conv2 = nn.Sequential(\n",
    "            nn.Conv2d(16, 16, kernel_size=5, stride=1, padding=2),\n",
    "            nn.BatchNorm2d(16),\n",
    "            nn.ReLU(),\n",
    "            nn.MaxPool2d(kernel_size=2, stride=2)\n",
    "            )\n",
    "        \n",
    "        self.conv3 = nn.Sequential(\n",
    "            nn.Conv2d(16, 8, kernel_size=5, stride=1, padding=2),\n",
    "            nn.BatchNorm2d(8),\n",
    "            nn.ReLU(),\n",
    "        )\n",
    "        self.conv4 = nn.Sequential(\n",
    "            nn.Conv2d(8, 8, kernel_size=5, stride=1, padding=2),\n",
    "            nn.BatchNorm2d(8),\n",
    "            nn.ReLU(),\n",
    "        )\n",
    "        self.conv5 = nn.Sequential(\n",
    "            nn.Conv2d(8, 8, kernel_size=5, stride=1, padding=2),\n",
    "            nn.BatchNorm2d(8),\n",
    "            nn.ReLU(),\n",
    "        )\n",
    "        \n",
    "        \n",
    "        \n",
    "        self.fc = nn.Linear(2048, num_classes)\n",
    "        \n",
    "    # 定义前向传播顺序\n",
    "    def forward(self, x):\n",
    "        out = self.conv1(x)\n",
    "        out = self.conv2(out)\n",
    "        out=self.conv3(out)\n",
    "        out=self.conv4(out)\n",
    "        out=self.conv5(out)\n",
    "        out = out.reshape(out.size(0), -1)\n",
    "        out = self.fc(out)\n",
    "        return out"
   ]
  },
  {
   "cell_type": "code",
   "execution_count": 8,
   "metadata": {},
   "outputs": [
    {
     "name": "stdout",
     "output_type": "stream",
     "text": [
      "----------------------------------------------------------------\n",
      "        Layer (type)               Output Shape         Param #\n",
      "================================================================\n",
      "            Conv2d-1           [-1, 16, 32, 32]           1,216\n",
      "       BatchNorm2d-2           [-1, 16, 32, 32]              32\n",
      "              ReLU-3           [-1, 16, 32, 32]               0\n",
      "            Conv2d-4           [-1, 16, 32, 32]           6,416\n",
      "       BatchNorm2d-5           [-1, 16, 32, 32]              32\n",
      "              ReLU-6           [-1, 16, 32, 32]               0\n",
      "         MaxPool2d-7           [-1, 16, 16, 16]               0\n",
      "            Conv2d-8            [-1, 8, 16, 16]           3,208\n",
      "       BatchNorm2d-9            [-1, 8, 16, 16]              16\n",
      "             ReLU-10            [-1, 8, 16, 16]               0\n",
      "           Conv2d-11            [-1, 8, 16, 16]           1,608\n",
      "      BatchNorm2d-12            [-1, 8, 16, 16]              16\n",
      "             ReLU-13            [-1, 8, 16, 16]               0\n",
      "           Conv2d-14            [-1, 8, 16, 16]           1,608\n",
      "      BatchNorm2d-15            [-1, 8, 16, 16]              16\n",
      "             ReLU-16            [-1, 8, 16, 16]               0\n",
      "           Linear-17                   [-1, 10]          20,490\n",
      "================================================================\n",
      "Total params: 34,658\n",
      "Trainable params: 34,658\n",
      "Non-trainable params: 0\n",
      "----------------------------------------------------------------\n",
      "Input size (MB): 0.01\n",
      "Forward/backward pass size (MB): 0.92\n",
      "Params size (MB): 0.13\n",
      "Estimated Total Size (MB): 1.07\n",
      "----------------------------------------------------------------\n"
     ]
    }
   ],
   "source": [
    "model2=ConvNet_Deep(num_classes).to(device)\n",
    "\n",
    "summary(model2,(3,32,32))"
   ]
  },
  {
   "cell_type": "code",
   "execution_count": 9,
   "metadata": {},
   "outputs": [],
   "source": [
    "criterion = nn.CrossEntropyLoss()\n",
    "optimizer = torch.optim.Adam(model2.parameters(), lr=learning_rate)"
   ]
  },
  {
   "cell_type": "code",
   "execution_count": 11,
   "metadata": {},
   "outputs": [
    {
     "name": "stdout",
     "output_type": "stream",
     "text": [
      "1\n",
      "1.381529408454895\n",
      "0.5014\n",
      "2\n",
      "1.034356152114868\n",
      "0.63484\n",
      "3\n",
      "0.9294517994117737\n",
      "0.67188\n",
      "4\n",
      "0.8679418844604492\n",
      "0.69562\n",
      "5\n",
      "0.8239513463783265\n",
      "0.71162\n",
      "6\n",
      "0.7875979981422424\n",
      "0.72388\n",
      "7\n",
      "0.7609650528335571\n",
      "0.73394\n",
      "8\n",
      "0.7309231797218323\n",
      "0.74498\n",
      "9\n",
      "0.7106542486000061\n",
      "0.75198\n",
      "10\n",
      "0.6894291912841797\n",
      "0.75976\n",
      "11\n",
      "0.6737751765441895\n",
      "0.7643\n",
      "12\n",
      "0.6538984972476959\n",
      "0.77354\n",
      "13\n",
      "0.6384205052089691\n",
      "0.776\n",
      "14\n",
      "0.6236341123008728\n",
      "0.78142\n",
      "15\n",
      "0.6107581218719482\n",
      "0.78592\n",
      "16\n",
      "0.5974239669036865\n",
      "0.79048\n",
      "17\n",
      "0.5815007359027863\n",
      "0.79694\n",
      "18\n",
      "0.5707615133666992\n",
      "0.79964\n",
      "19\n",
      "0.5585191724967956\n",
      "0.80504\n",
      "20\n",
      "0.5493220317840576\n",
      "0.8072\n"
     ]
    }
   ],
   "source": [
    "total_step = len(trainloader)\n",
    "loss2_list=[]\n",
    "acc2_list=[]\n",
    "for epoch in range(20):\n",
    "    running_loss = 0.0\n",
    "    running_corrects = 0\n",
    "    for i, (images, labels) in enumerate(trainloader):\n",
    "        # 注意模型在GPU中，数据也要搬到GPU中\n",
    "        images = images.to(device)\n",
    "        labels = labels.to(device)\n",
    "        \n",
    "        # 前向传播\n",
    "        outputs = model2(images)\n",
    "        _,preds = torch.max(outputs,1)\n",
    "        loss = criterion(outputs, labels)\n",
    "        \n",
    "        # 反向传播和优化\n",
    "        optimizer.zero_grad()\n",
    "        loss.backward()\n",
    "        optimizer.step()\n",
    "        \n",
    "        running_loss += loss.item() * images.size(0)\n",
    "        running_corrects += torch.sum(preds == labels.data)\n",
    "    print(epoch+1)\n",
    "    print(running_loss/len(trainset))\n",
    "    print(running_corrects.double().item()/len(trainset))\n",
    "    loss2_list.append(running_loss/len(trainset))\n",
    "    acc2_list.append(running_corrects.double().item()/len(trainset))"
   ]
  },
  {
   "cell_type": "code",
   "execution_count": 14,
   "metadata": {},
   "outputs": [
    {
     "data": {
      "image/png": "[encoded data removed]",
      "text/plain": [
       "<Figure size 432x288 with 1 Axes>"
      ]
     },
     "metadata": {
      "needs_background": "light"
     },
     "output_type": "display_data"
    }
   ],
   "source": [
    "plt.plot(epoch_list, loss1_list,label=\"model2\")\n",
    "plt.plot(epoch_list, loss2_list,label=\"model1\")\n",
    "plt.ylabel('Loss')\n",
    "plt.xlabel('epoch')\n",
    "plt.legend()\n",
    "plt.show()"
   ]
  },
  {
   "cell_type": "code",
   "execution_count": 15,
   "metadata": {},
   "outputs": [
    {
     "data": {
      "image/png": "[encoded data removed]",
      "text/plain": [
       "<Figure size 432x288 with 1 Axes>"
      ]
     },
     "metadata": {
      "needs_background": "light"
     },
     "output_type": "display_data"
    }
   ],
   "source": [
    "plt.plot(epoch_list, acc1_list,label=\"model2\")\n",
    "plt.plot(epoch_list, acc2_list,label=\"model1\")\n",
    "plt.ylabel('Acc')\n",
    "plt.xlabel('epoch')\n",
    "plt.legend()\n",
    "plt.show()"
   ]
  },
  {
   "cell_type": "code",
   "execution_count": null,
   "metadata": {},
   "outputs": [],
   "source": []
  }
 ],
 "metadata": {
  "kernelspec": {
   "display_name": "Python 3",
   "language": "python",
   "name": "python3"
  },
  "language_info": {
   "codemirror_mode": {
    "name": "ipython",
    "version": 3
   },
   "file_extension": ".py",
   "mimetype": "text/x-python",
   "name": "python",
   "nbconvert_exporter": "python",
   "pygments_lexer": "ipython3",
   "version": "3.7.4"
  }
 },
 "nbformat": 4,
 "nbformat_minor": 2
}
