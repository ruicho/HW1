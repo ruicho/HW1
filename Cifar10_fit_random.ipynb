{
 "cells": [
  {
   "cell_type": "code",
   "execution_count": 1,
   "metadata": {},
   "outputs": [],
   "source": [
    "from torchsummary import summary\n",
    "\n",
    "import matplotlib.pyplot as plt \n",
    "import matplotlib.image as mpimg \n",
    "import numpy as np\n",
    "\n",
    "from scipy import misc\n",
    "\n",
    "import torch \n",
    "import torch.nn as nn\n",
    "import torchvision\n",
    "import torchvision.transforms as transforms\n",
    "\n",
    "device = torch.device('cuda' if torch.cuda.is_available() else 'cpu')\n",
    "\n",
    "num_epochs = 5\n",
    "num_classes = 10\n",
    "batch_size = 32\n",
    "learning_rate = 0.001"
   ]
  },
  {
   "cell_type": "code",
   "execution_count": 2,
   "metadata": {},
   "outputs": [
    {
     "name": "stdout",
     "output_type": "stream",
     "text": [
      "Files already downloaded and verified\n"
     ]
    }
   ],
   "source": [
    "\n",
    "transform = transforms.Compose(\n",
    "    [transforms.ToTensor(),\n",
    "     transforms.Normalize((0.5, 0.5, 0.5), (0.5, 0.5, 0.5))])\n",
    "\n",
    "trainset = torchvision.datasets.CIFAR10(root='./data', train=True,\n",
    "                                        download=True, transform=transform)\n"
   ]
  },
  {
   "cell_type": "code",
   "execution_count": 3,
   "metadata": {},
   "outputs": [],
   "source": [
    "import random"
   ]
  },
  {
   "cell_type": "code",
   "execution_count": 4,
   "metadata": {},
   "outputs": [],
   "source": [
    "trainset.targets = [random.randint(0, 9) for _ in range(len(trainset))]"
   ]
  },
  {
   "cell_type": "code",
   "execution_count": 5,
   "metadata": {},
   "outputs": [
    {
     "name": "stdout",
     "output_type": "stream",
     "text": [
      "Files already downloaded and verified\n"
     ]
    }
   ],
   "source": [
    "trainloader = torch.utils.data.DataLoader(trainset, batch_size=batch_size,\n",
    "                                          shuffle=True, num_workers=2)\n",
    "\n",
    "testset = torchvision.datasets.CIFAR10(root='./data', train=False,\n",
    "                                       download=True, transform=transform)\n",
    "testloader = torch.utils.data.DataLoader(testset, batch_size=batch_size,\n",
    "                                         shuffle=False, num_workers=2)\n",
    "\n",
    "classes = ('plane', 'car', 'bird', 'cat',\n",
    "           'deer', 'dog', 'frog', 'horse', 'ship', 'truck')"
   ]
  },
  {
   "cell_type": "code",
   "execution_count": 6,
   "metadata": {},
   "outputs": [],
   "source": [
    "class ConvNet(nn.Module):\n",
    "    def __init__(self, num_classes=10):\n",
    "        super(ConvNet, self).__init__()\n",
    "        self.conv1 = nn.Sequential(\n",
    "            nn.Conv2d(3, 16, kernel_size=5, stride=1, padding=2),\n",
    "            nn.BatchNorm2d(16),\n",
    "            nn.ReLU(),\n",
    "            nn.MaxPool2d(kernel_size=2, stride=2)\n",
    "           )\n",
    "        \n",
    "        self.conv2 = nn.Sequential(\n",
    "            nn.Conv2d(16, 32, kernel_size=5, stride=1, padding=2),\n",
    "            nn.BatchNorm2d(32),\n",
    "            nn.ReLU(),\n",
    "            nn.MaxPool2d(kernel_size=2, stride=2)\n",
    "            )\n",
    "        \n",
    "        self.fc = nn.Linear(2048, num_classes)\n",
    "        \n",
    "    # 定义前向传播顺序\n",
    "    def forward(self, x):\n",
    "        out = self.conv1(x)\n",
    "        out = self.conv2(out)\n",
    "        out = out.reshape(out.size(0), -1)\n",
    "        out = self.fc(out)\n",
    "        return out"
   ]
  },
  {
   "cell_type": "code",
   "execution_count": 9,
   "metadata": {},
   "outputs": [
    {
     "name": "stdout",
     "output_type": "stream",
     "text": [
      "1\n",
      "2.3397951184082033\n",
      "0.10072\n",
      "2.3009976348876955\n",
      "0.086\n",
      "2\n",
      "2.3027120442962645\n",
      "0.10574\n",
      "2.3057251914978028\n",
      "0.0984\n",
      "3\n",
      "2.30210093711853\n",
      "0.10642\n",
      "2.3012457901000976\n",
      "0.1091\n",
      "4\n",
      "2.3009060427093506\n",
      "0.111\n",
      "2.3034577907562257\n",
      "0.1025\n",
      "5\n",
      "2.299080374450684\n",
      "0.11382\n",
      "2.304606234359741\n",
      "0.1214\n",
      "6\n",
      "2.2953384323120116\n",
      "0.1215\n",
      "2.301945801925659\n",
      "0.1142\n",
      "7\n",
      "2.2911835412597656\n",
      "0.12452\n",
      "2.303183625793457\n",
      "0.1247\n",
      "8\n",
      "2.2854258058166503\n",
      "0.13306\n",
      "2.3027036209106444\n",
      "0.12\n",
      "9\n",
      "2.2801783950042727\n",
      "0.13748\n",
      "2.3095088088989257\n",
      "0.1249\n",
      "10\n",
      "2.2745841387176515\n",
      "0.14232\n",
      "2.3186621543884276\n",
      "0.1122\n",
      "11\n",
      "2.268597324676514\n",
      "0.1455\n",
      "2.3123813659667967\n",
      "0.1218\n",
      "12\n",
      "2.2621119104003906\n",
      "0.15214\n",
      "2.328874366760254\n",
      "0.1122\n",
      "13\n",
      "2.256652439804077\n",
      "0.15672\n",
      "2.325681944274902\n",
      "0.1147\n",
      "14\n",
      "2.2503611669921875\n",
      "0.16248\n",
      "2.330715875244141\n",
      "0.1163\n",
      "15\n",
      "2.2444257427978513\n",
      "0.16466\n",
      "2.3364800373077395\n",
      "0.1099\n",
      "16\n",
      "2.236636667404175\n",
      "0.17036\n",
      "2.351435964202881\n",
      "0.1073\n",
      "17\n",
      "2.231939412689209\n",
      "0.17106\n",
      "2.3584343227386473\n",
      "0.1176\n",
      "18\n",
      "2.224285261154175\n",
      "0.1795\n",
      "2.3678759384155272\n",
      "0.1052\n",
      "19\n",
      "2.2186184445953367\n",
      "0.18094\n",
      "2.361726094818115\n",
      "0.1063\n",
      "20\n",
      "2.213462308883667\n",
      "0.1854\n",
      "2.3596433883666994\n",
      "0.1092\n"
     ]
    }
   ],
   "source": [
    "model = ConvNet(num_classes).to(device)\n",
    "\n",
    "criterion = nn.CrossEntropyLoss()\n",
    "optimizer = torch.optim.Adam(model.parameters(), lr=learning_rate)\n",
    "\n",
    "total_step = len(trainloader)\n",
    "loss1_list=[]\n",
    "acc1_list=[]\n",
    "testloss_list=[]\n",
    "testacc_list=[]\n",
    "epoch_list=[]\n",
    "for epoch in range(20):\n",
    "    running_loss = 0.0\n",
    "    running_corrects = 0\n",
    "    test_total=0\n",
    "    test_correct=0.0\n",
    "    test_loss=0.0\n",
    "    for i, (images, labels) in enumerate(trainloader):\n",
    "        # 注意模型在GPU中，数据也要搬到GPU中\n",
    "        images = images.to(device)\n",
    "        labels = labels.to(device)\n",
    "        \n",
    "        # 前向传播\n",
    "        outputs = model(images)\n",
    "        _,preds = torch.max(outputs,1)\n",
    "        loss = criterion(outputs, labels)\n",
    "        \n",
    "        # 反向传播和优化\n",
    "        optimizer.zero_grad()\n",
    "        loss.backward()\n",
    "        optimizer.step()\n",
    "        \n",
    "        running_loss += loss.item() * images.size(0)\n",
    "        running_corrects += torch.sum(preds == labels.data)\n",
    "        \n",
    "    for i,(images, labels) in enumerate(testloader):\n",
    "        images = images.to(device)\n",
    "        labels = labels.to(device)\n",
    "        outputs = model(images)\n",
    "        loss=criterion(outputs, labels)\n",
    "        test_loss += loss.item() * images.size(0)\n",
    "        _, predicted = torch.max(outputs.data, 1)\n",
    "        test_total += labels.size(0)\n",
    "        test_correct += (predicted == labels).sum().item()\n",
    "       \n",
    "    print(epoch+1)\n",
    "    print(running_loss/len(trainset))\n",
    "    print(running_corrects.double().item()/len(trainset))\n",
    "    print(test_loss/test_total)\n",
    "    print(test_correct/test_total)\n",
    "    epoch_list.append(epoch+1)\n",
    "    loss1_list.append(running_loss/len(trainset))\n",
    "    acc1_list.append(running_corrects.double().item()/len(trainset))\n",
    "    testloss_list.append(test_loss/test_total)\n",
    "    testacc_list.append(test_correct/test_total)"
   ]
  },
  {
   "cell_type": "code",
   "execution_count": 13,
   "metadata": {},
   "outputs": [
    {
     "name": "stdout",
     "output_type": "stream",
     "text": [
      "----------------------------------------------------------------\n",
      "        Layer (type)               Output Shape         Param #\n",
      "================================================================\n",
      "            Conv2d-1           [-1, 16, 32, 32]           1,216\n",
      "       BatchNorm2d-2           [-1, 16, 32, 32]              32\n",
      "              ReLU-3           [-1, 16, 32, 32]               0\n",
      "         MaxPool2d-4           [-1, 16, 16, 16]               0\n",
      "            Conv2d-5           [-1, 32, 16, 16]          12,832\n",
      "       BatchNorm2d-6           [-1, 32, 16, 16]              64\n",
      "              ReLU-7           [-1, 32, 16, 16]               0\n",
      "         MaxPool2d-8             [-1, 32, 8, 8]               0\n",
      "            Linear-9                   [-1, 10]          20,490\n",
      "================================================================\n",
      "Total params: 34,634\n",
      "Trainable params: 34,634\n",
      "Non-trainable params: 0\n",
      "----------------------------------------------------------------\n",
      "Input size (MB): 0.01\n",
      "Forward/backward pass size (MB): 0.61\n",
      "Params size (MB): 0.13\n",
      "Estimated Total Size (MB): 0.75\n",
      "----------------------------------------------------------------\n"
     ]
    }
   ],
   "source": [
    "summary(model,(3,32,32))"
   ]
  },
  {
   "cell_type": "code",
   "execution_count": 10,
   "metadata": {},
   "outputs": [
    {
     "data": {
      "image/png": "[encoded data removed]",
      "text/plain": [
       "<Figure size 432x288 with 1 Axes>"
      ]
     },
     "metadata": {
      "needs_background": "light"
     },
     "output_type": "display_data"
    }
   ],
   "source": [
    "plt.plot(epoch_list, loss1_list,label=\"train\")\n",
    "plt.plot(epoch_list, testloss_list,label=\"test\")\n",
    "plt.ylabel('Loss')\n",
    "plt.xlabel('epoch')\n",
    "plt.legend()\n",
    "plt.show()"
   ]
  },
  {
   "cell_type": "code",
   "execution_count": 12,
   "metadata": {},
   "outputs": [
    {
     "data": {
      "image/png": "[encoded data removed]",
      "text/plain": [
       "<Figure size 432x288 with 1 Axes>"
      ]
     },
     "metadata": {
      "needs_background": "light"
     },
     "output_type": "display_data"
    }
   ],
   "source": [
    "plt.plot(epoch_list, acc1_list,label=\"train\")\n",
    "plt.plot(epoch_list, testacc_list,label=\"test\")\n",
    "plt.ylabel('Acc')\n",
    "plt.xlabel('epoch')\n",
    "plt.legend()\n",
    "plt.show()"
   ]
  },
  {
   "cell_type": "code",
   "execution_count": null,
   "metadata": {},
   "outputs": [],
   "source": []
  }
 ],
 "metadata": {
  "kernelspec": {
   "display_name": "Python 3",
   "language": "python",
   "name": "python3"
  },
  "language_info": {
   "codemirror_mode": {
    "name": "ipython",
    "version": 3
   },
   "file_extension": ".py",
   "mimetype": "text/x-python",
   "name": "python",
   "nbconvert_exporter": "python",
   "pygments_lexer": "ipython3",
   "version": "3.7.4"
  }
 },
 "nbformat": 4,
 "nbformat_minor": 2
}
